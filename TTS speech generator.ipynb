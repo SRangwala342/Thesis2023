{
 "cells": [
  {
   "cell_type": "code",
   "execution_count": 1,
   "id": "ded7f95d-9e1e-4d12-affa-95370ee632a0",
   "metadata": {},
   "outputs": [
    {
     "name": "stdout",
     "output_type": "stream",
     "text": [
      "Requirement already satisfied: pyttsx3 in c:\\users\\saher_fb3xqff\\anaconda3\\lib\\site-packages (2.90)\n",
      "Requirement already satisfied: pypiwin32 in c:\\users\\saher_fb3xqff\\anaconda3\\lib\\site-packages (from pyttsx3) (223)\n",
      "Requirement already satisfied: pywin32 in c:\\users\\saher_fb3xqff\\anaconda3\\lib\\site-packages (from pyttsx3) (302)\n",
      "Requirement already satisfied: comtypes in c:\\users\\saher_fb3xqff\\anaconda3\\lib\\site-packages (from pyttsx3) (1.1.10)\n",
      "Note: you may need to restart the kernel to use updated packages.\n"
     ]
    }
   ],
   "source": [
    "pip install pyttsx3"
   ]
  },
  {
   "cell_type": "code",
   "execution_count": 1,
   "id": "d37225dd-4466-41b8-8570-2adde48996b8",
   "metadata": {},
   "outputs": [],
   "source": [
    "import pyttsx3"
   ]
  },
  {
   "cell_type": "code",
   "execution_count": 2,
   "id": "d0d3fc1d-31af-40c1-b126-21ead2da3899",
   "metadata": {},
   "outputs": [],
   "source": [
    "#Define 4 strings: 1 for each lecture/narrative used in this study\n",
    "\n",
    "lecture_1 = \"\"\"When Scots get together to celebrate their national identity, they do so in ways steeped in tradition. Men wear the kilt, with each clan having its own tartan - and their ceremonials are accompanied by the wail of the bagpipes. By means of these symbols, they show their loyalty to ancient rituals - rituals whose origins go far back into antiquity.\n",
    "Except for the fact that they don't. Along with most other symbols of Scottishness, all these are quite recent creations. The short kilt seems to have been invented by an English industrialist from Lancashire, Thomas Rawlinson, in the early 18th Century. He set out to alter the existing dress of highlanders to make it convenient for workmen.\n",
    "Kilts were a product of the industrial revolution. The aim was not to preserve time-honored customs, but the opposite - to bring the highlanders out of the heather and into the factory. The kilt didn't start life as the national dress of Scotland. The lowlanders, who made up the large majority of Scots, saw highland dress as a barbaric form of clothing, which most looked on with some contempt. Similarly, many of the clan tartans worn now were devised during the Victorian period, by enterprising tailors who correctly saw a market in them.\n",
    "Much of what we think of as traditional, and steeped in the mists of time, is actually a product at most of the last couple of centuries, and is often much more recent than that. The case of the Scottish kilt comes from a celebrated volume by the historians Eric Hobsbawm and Terence Ranger, called The Invention of Tradition. They give examples of invented traditions from a variety of different countries, including colonial India.\n",
    "The British set up an archaeological survey in the 1860s to identify the great monuments of India and to preserve Indian ‘heritage.’ Believing local arts and crafts to be in decline, they collected together artifacts to put in museums. Before 1860, for example, Indian soldiers and the British both wore Western-style uniforms. But in the eyes of the British, Indians had to look like Indians. The dress uniforms were modified to include turbans, sashes and tunics regarded as 'authentic'. Some of the traditions they invented, or half invented, continue on in the country today, although of course others were later rejected.\n",
    "Tradition and custom - these have been the stuff of most people's lives for most of human history. Yet it is remarkable how little interest scholars and thinkers tend to show in them. There are endless discussions of modernization and what it means to be modern, but few indeed about tradition.\"\"\"\n",
    "\n",
    "lecture_2 = \"\"\"About 50 years ago, American freshwater ecologist Ruth Patrick began a line of research subsequently recognized by the U.S. National Medal of Science. Ruth has been essentially a den mother for a couple of generations of scientists and is in my personal Pantheon. Fifteen years ago when I chose her to speak at a particularly important meeting on the environment, someone asked me, \"Why did you choose someone so old?\" My reply: \"When your grandmother tells you have cooties or head lice, you take it more seriously.\" Ruth Patrick began a systematic study of rivers and their biological diversity which demonstrates that the numbers and kinds of species in a river – its biological diversity in our current parlance – reflect the basic ecology of the river and the environmental stresses to which it is subject. In other words, biological diversity integrates the effects of all environmental problems affecting an ecosystem. This is essentially the fundamental, if often unrecognized, principle on which all environmental science and management is based. It applies everywhere not just in freshwater.\n",
    "Taken at the level of the entire globe, the Ruth Patrick Principle means that biological diversity can be considered the single measure of how humanity is affecting the environment. Think of that: instead of contemplating the welter of impacts society is generating, we now can measure the sum in a single number - a real measurable key to achieving and recognizing sustainability.\n",
    "At the scale of an ecosystem such as South Florida, the coastal sage scrub of California's five southern counties, or even as ambitious a one as the Amazon basin, the key consists of maintaining two elements -- measurable elements -- that are characteristic of the particular ecosystem. One is maintenance of ecosystem functions, such as the sheet flow of water in South Florida, and the other is maintenance of the biological diversity of the ecosystem. The latter can be thought of as managing so that the species list a hundred or five hundred years from now will be pretty much the same as it is today. It certainly does not mean that this has to be true of every spot within the ecosystem although there do need to be areas of strict preservation. There certainly can be locations (cities for example) where there is very intense use and low biological diversity. It does mean enough wild places and enough connections between them so all the species can make it in the long term.\n",
    "These two measurable goals provide an operational definition for sustainable development within that piece of geography. It is, of course, seriously challenging because it means taking on all environmental problems intrinsic to the area as well as those like acid rain and climate change which are extrinsic. While this might seem to ignore the social and economic elements of sustainability, in the end it certainly does not, because otherwise they will begin to affect the two measurable standards: ecosystem function and biological diversity. Consequently the other aspects of this lecture series, for example good governance and health, are also vital for success. If not applied late in a history of environmental degradation, this ecosystem management approach allows for considerable flexibility and creativity in addressing human aspirations.\"\"\"\n",
    "\n",
    "\n",
    "narrative_1 = \"\"\"There was a fire. It's a quickie story: We're getting married, and we got a lot of presents in advance, and my wife had bought ... extra clothing, ... so-called trousseau, and she lived with her mother in a small apartment over a store in downtown. And then we went ... off on our honeymoon to Mexico. We were very fancy. You know, I was considered to be quite wealthy at that time. I wasn't, but everybody thought I was, which is almost as good as being wealthy. So while we're away, there's a fire in the store down below.\n",
    "So my cousins, my older cousin particularly kinda, well, I hadn't mentioned that. My father ... died when I was a senior in high school. So, you know, after that, we were ... three young people. We weren't really children anymore, but we were sort of, you know, people looked at us like orphans. And we stayed together, and we ran everything by ourselves. But we were old enough to do that, but people don't think you're old enough to do anything when you're in the child category. You know, like my 38-year old daughter is still a child and my 33 year-old son is still a child. It doesn't change. ... My son works with me, and he's the third generation in our business. But I call him the kid ... when I talk to a salesperson, I say \"Yeah, the kid wants to do this or wants to do that.\" He's only 33.\n",
    "So the fire was really disastrous, but it was a blessing in disguise. We were really a small shop, we weren't a real store store. And we were known from around a bit. But we didn't have big, glorious magnetism of any sort, because ... we didn't advertise. My father, you know, didn't know how to make up ads. He would have learned, but he didn't think it was important, I guess, at that time. But then we had this fire. So very quickly, we got a much larger store, happened to belong to Melvin Silverman's parents. You see, these names keep coming back in. And we rented it temporarily. ... We moved by truck all the goods from this burnt-out store and we had a carpenter make quick tables, you know, just wood running on saw horses all over the place. And we took everything and stretched it all out. And we worked, I mean even as kids, we were there and we got some of our classmates to help us. And we were working on Sunday, December the 7th, and we were ready to open for our big fire sale. And we even had, my aunt came down, my mother didn't come down, well, my father was home sick all those years. He was captured in the house for four years before he died, because he had a heart condition. And they didn't know what to do in those days, so you just stayed home. We were on a second floor, also, so he couldn't walk up and down the steps. They never understood that exercise would have been good, you know. They just didn't have the knowledge that we have today. So he just kind of wasted away and died, which wasn't as terrible to me as it might sound, because I had a chance to get to know my father, because he was home all the time, we used to go and we'd sit and talk, you know. He would be in bed or in the wheelchair and we'd kibitz around and talk. You know, most people didn't spend that much time with their parents, because they were busy working.\"\"\"\n",
    "\n",
    "\n",
    "narrative_2 = \"\"\"On the platform, in front of the tracks where the train was still standing, with whatever, a couple of suitcases, perhaps, … at that moment, there was an air raid and the locomotive of the train from which we had just gotten off was hit. It was a steam engine and the sheer noise from that explosion, you know, the steam escaping was so strong that we were all thrown with great force to the ground. We all had bruises, you know, it was a cement platform. But fortunately, nobody was hurt because, you know, the engine was way up in front and we were way in the back someplace. … We stayed in a hotel overnight. Again, there were air raids all night long. I only remember [that] we didn't even bother going out. We were so inured to these air raids all the time [that] we didn't bother anymore. …\n",
    "The next day we boarded this ancient French boat called De Grasse, that had been taken out of mothballs. It had already been discarded, but they weren't going to risk any modern or newer boats. … This boat was full of Spanish loyalists, refugees, because the Spanish Civil War was just over. … We were probably the only non-Spaniards on that boat. Everybody spoke Spanish. … The boat just crossed the Channel, to the British port, Southampton, and we stayed there for two weeks until a convoy of about 200 ships assembled. Most of these, of course, were merchant ships escorted by several British destroyers and cruisers. … This was the end of December, beginning of January, 1940. … After two weeks this convoy left for New York because that was the period of the great submarine warfare. Germans were sinking merchant ships right and left. And I remember two things; number one, it was an extremely stormy passage. My mother was so deathly seasick, and so were most of the other people. For some reason I wasn't seasick at all. But, I still remember playing Ping Pong at one end of the boat, and the ball would remain suspended in midair, you know, it was going up and down like that. It was very, very stormy. … Most of the people, who were not too seasick, were just walking around with life vests all day long. They saw submarines everywhere. Again, you have to remember these were people who had just escaped from the Spanish Civil War, and so they were very paranoid about this kind of thing. But, the voyage was completely uneventful and I don't remember whether it took five days or seven days to reach New York. … Then, we had the pleasure to be interned for four days on Ellis Island, because we didn't have any visas for the States, and we had to wait for a boat to Cuba. So, we were on Ellis Island, and I remember it very fondly because the thing that really sticks out in my mind is getting fresh milk to drink. I hadn't seen fresh milk in a long time. … Then we were on one of the luxury Grace Line boats from New York to Havana, which was like being in a paradise of food, and the quantity of food, and all that. … Then, we were reunited with my father in Havana and stayed in Cuba for about a year, until February 1941. … At that time we were able to get visas for the States.\"\"\""
   ]
  },
  {
   "cell_type": "code",
   "execution_count": 20,
   "id": "4c1d4fad-76c2-42aa-ac7e-dd78f406c6b3",
   "metadata": {},
   "outputs": [
    {
     "name": "stdout",
     "output_type": "stream",
     "text": [
      "170\n"
     ]
    }
   ],
   "source": [
    "#Create TTS audio for lecture 1: speech rate 170, voice male\n",
    "\n",
    "engine1 = pyttsx3.init()\n",
    "rate = engine1.getProperty('rate')   # getting details of current speaking rate\n",
    "print (rate)                        #printing current voice rate\n",
    "engine1.setProperty('rate', 170)\n",
    "voices = engine2.getProperty('voices')       #getting details of current voice\n",
    "engine2.setProperty('voice', voices[0].id)   #changing index, changes voices. 0 for male\n",
    "engine1.save_to_file(lecture_1, \"Lecture 1 tts.mp3\")\n",
    "engine1.runAndWait()"
   ]
  },
  {
   "cell_type": "code",
   "execution_count": 35,
   "id": "c2629e89-a25c-4097-9c3b-8aa398091fa2",
   "metadata": {},
   "outputs": [
    {
     "name": "stdout",
     "output_type": "stream",
     "text": [
      "130\n"
     ]
    }
   ],
   "source": [
    "#Create TTS audio for lecture 2: speech rate 130, voice female\n",
    "\n",
    "engine2 = pyttsx3.init()\n",
    "rate = engine2.getProperty('rate')   # getting details of current speaking rate\n",
    "print (rate)                        #printing current voice rate\n",
    "engine2.setProperty('rate', 130)\n",
    "voices = engine2.getProperty('voices')       #getting details of current voice\n",
    "engine2.setProperty('voice', voices[1].id)   #changing index, changes voices. 1 for female\n",
    "engine2.save_to_file(lecture_2, \"Lecture 2 tts.mp3\")\n",
    "engine2.runAndWait()"
   ]
  },
  {
   "cell_type": "code",
   "execution_count": 41,
   "id": "a5a772e0-6238-4de3-a037-c5528311e93e",
   "metadata": {},
   "outputs": [
    {
     "name": "stdout",
     "output_type": "stream",
     "text": [
      "195\n"
     ]
    }
   ],
   "source": [
    "#Create TTS audio for Narrative 1: speech rate 190, voice male\n",
    "\n",
    "engine3 = pyttsx3.init()\n",
    "rate = engine3.getProperty('rate')   # getting details of current speaking rate\n",
    "print (rate)                        #printing current voice rate\n",
    "engine3.setProperty('rate', 190)\n",
    "voices = engine3.getProperty('voices')       #getting details of current voice\n",
    "engine3.setProperty('voice', voices[0].id)   #changing index, changes voices. 0 for male\n",
    "engine3.save_to_file(narrative_1, \"Narrative 1 tts.mp3\")\n",
    "engine1.runAndWait()"
   ]
  },
  {
   "cell_type": "code",
   "execution_count": 52,
   "id": "05a73193-4a7b-4966-8516-d3c36b7c2d37",
   "metadata": {},
   "outputs": [
    {
     "name": "stdout",
     "output_type": "stream",
     "text": [
      "173\n"
     ]
    }
   ],
   "source": [
    "#Create TTS audio for Narrative 2: speech rate 130, voice female\n",
    "\n",
    "engine4 = pyttsx3.init()\n",
    "rate = engine4.getProperty('rate')   # getting details of current speaking rate\n",
    "print (rate)                        #printing current voice rate\n",
    "engine4.setProperty('rate', 170)\n",
    "voices = engine4.getProperty('voices')       #getting details of current voice\n",
    "engine4.setProperty('voice', voices[1].id)   #changing index, changes voices. 1 for female\n",
    "engine4.save_to_file(narrative_2, \"Narrative 2 tts.mp3\")\n",
    "engine4.runAndWait()"
   ]
  }
 ],
 "metadata": {
  "kernelspec": {
   "display_name": "Python 3 (ipykernel)",
   "language": "python",
   "name": "python3"
  },
  "language_info": {
   "codemirror_mode": {
    "name": "ipython",
    "version": 3
   },
   "file_extension": ".py",
   "mimetype": "text/x-python",
   "name": "python",
   "nbconvert_exporter": "python",
   "pygments_lexer": "ipython3",
   "version": "3.9.13"
  }
 },
 "nbformat": 4,
 "nbformat_minor": 5
}
